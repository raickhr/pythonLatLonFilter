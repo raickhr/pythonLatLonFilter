{
 "cells": [
  {
   "cell_type": "code",
   "execution_count": 1,
   "id": "fd1d3973-5c3f-42a6-b1dc-62e1b157a880",
   "metadata": {
    "tags": []
   },
   "outputs": [],
   "source": [
    "from netCDF4 import Dataset\n",
    "import numpy as np\n",
    "import matplotlib.pyplot as plt\n",
    "from scipy.interpolate import NearestNDInterpolator\n",
    "%matplotlib inline"
   ]
  },
  {
   "cell_type": "code",
   "execution_count": 2,
   "id": "03993cfe-15cf-4c92-a94d-67dcff39cec3",
   "metadata": {
    "tags": []
   },
   "outputs": [
    {
     "data": {
      "text/plain": [
       "dict_keys(['dx_h_prime', 'dy_h_prime', 'dx_sst_prime', 'dy_sst_prime', 'dx_crs_sst', 'dy_crs_sst', 'H', 'n', 'alpha', 'gamma'])"
      ]
     },
     "execution_count": 2,
     "metadata": {},
     "output_type": "execute_result"
    }
   ],
   "source": [
    "ds = Dataset('../TempGradData_0p25degCrse_data_crseAtm_inst_2p5deg.nc')\n",
    "\n",
    "ds.variables.keys()\n"
   ]
  },
  {
   "cell_type": "code",
   "execution_count": null,
   "id": "287e0815-0d15-47c9-97b4-03b5eefa7f86",
   "metadata": {},
   "outputs": [],
   "source": []
  }
 ],
 "metadata": {
  "kernelspec": {
   "display_name": "mpiNetCDF",
   "language": "python",
   "name": "mpinetcdf"
  },
  "language_info": {
   "codemirror_mode": {
    "name": "ipython",
    "version": 3
   },
   "file_extension": ".py",
   "mimetype": "text/x-python",
   "name": "python",
   "nbconvert_exporter": "python",
   "pygments_lexer": "ipython3",
   "version": "3.9.12"
  }
 },
 "nbformat": 4,
 "nbformat_minor": 5
}
